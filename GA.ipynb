{
 "cells": [
  {
   "cell_type": "markdown",
   "metadata": {},
   "source": [
    "# 遗传算法"
   ]
  },
  {
   "cell_type": "markdown",
   "metadata": {},
   "source": [
    "* 整个文件"
   ]
  },
  {
   "cell_type": "code",
   "execution_count": 16,
   "metadata": {},
   "outputs": [
    {
     "name": "stdout",
     "output_type": "stream",
     "text": [
      "7.856726507007652\n"
     ]
    }
   ],
   "source": [
    "import math\n",
    "import random\n",
    "\n",
    "class GA(): # 遗传算法\n",
    "    def __init__(self, length, count):\n",
    "        # 染色体长度\n",
    "        self.length = length\n",
    "        # 种群中染色体的数量\n",
    "        self.count = count\n",
    "        # 随机生成初始种群\n",
    "        self.population = self.gen_population(length, count)\n",
    "\n",
    "    def evolve(self, retain_rate=.2, random_select_rate=.5, mutation_rate=.01):\n",
    "        \"\"\"\n",
    "        进化\n",
    "        对当前一代种群依次进行选择、交叉并生成新一代种群，然后对新一代种群进行变异\n",
    "        \"\"\"\n",
    "        # 选择当前一代种群中的父母个体\n",
    "        parents = self.selection(retain_rate, random_select_rate)\n",
    "        # 父母个体之间随机交叉\n",
    "        self.crossover(parents)\n",
    "        # 产生变异\n",
    "        self.mutation(mutation_rate)\n",
    "\n",
    "    def gen_chromosome(self, length):\n",
    "        \"\"\"\n",
    "        随机生成长度为length的染色体，每个基因的取值是0或1\n",
    "        这里用一个bit表示一个基因\n",
    "        \"\"\"\n",
    "        # 初始化染色体的值\n",
    "        chromosome = 0\n",
    "        # 随机产生染色体\n",
    "        for i in range(length):\n",
    "            chromosome |= (1 << i) * random.randint(0, 1)\n",
    "        return chromosome\n",
    "\n",
    "    def gen_population(self, length, count):\n",
    "        \"\"\"\n",
    "        获取初始种群（一个含有count个长度为length的染色体的列表）\n",
    "        \"\"\"\n",
    "        return [self.gen_chromosome(length) for i in range(count)]\n",
    "\n",
    "    def fitness(self, chromosome):\n",
    "        \"\"\"\n",
    "        计算适应度，将染色体解码为0~9之间数字，代入函数计算\n",
    "        因为是求最大值，所以数值越大，适应度越高\n",
    "        \"\"\"\n",
    "        # 解码染色体\n",
    "        x = self.decode(chromosome)\n",
    "        # 直接将带入计算得到的解作为返回值\n",
    "        return x + 10 * math.sin(5 * x) + 7 * math.cos(4 * x)\n",
    "\n",
    "    def selection(self, retain_rate, random_select_rate):\n",
    "        \"\"\"\n",
    "        选择\n",
    "        先对适应度从大到小排序，选出存活的染色体\n",
    "        再进行随机选择，选出适应度虽然小，但是幸存下来的个体\n",
    "        \"\"\"\n",
    "        # graded是a list of tuple, 元组由适应度和染色体的值构成\n",
    "        graded = [(self.fitness(chromosome), chromosome) for chromosome in self.population]\n",
    "        # 对整个数组进行降序排序, 并直接取第二个位置的值\n",
    "        graded = [x[1] for x in sorted(graded, reverse=True)]\n",
    "        # 根据留存率计算留存下来的个体的量\n",
    "        retain_length = int(len(graded) * retain_rate)\n",
    "        # 根据留存量截取具有较高的适应度的个体作为这一代的留存个体\n",
    "        parents = graded[:retain_length]\n",
    "        # 对于适应度不够高的个体, 根据随机选择率随机的将它们留存\n",
    "        for chromosome in graded[retain_length:]:\n",
    "            if random.random() < random_select_rate:\n",
    "                parents.append(chromosome)\n",
    "        # 返回这一代淘汰后的留存个体\n",
    "        return parents\n",
    "\n",
    "    def crossover(self, parents):\n",
    "        \"\"\"\n",
    "        染色体的交叉、繁殖，生成新一代的种群\n",
    "        \"\"\"\n",
    "        # 初始化孩子种群\n",
    "        children = []\n",
    "        # 计算需要繁殖的孩子的量\n",
    "        target_count = len(self.population) - len(parents)\n",
    "        # 根据需要的量进行繁殖\n",
    "        while len(children) < target_count:\n",
    "            # 随机选取孩子的父母\n",
    "            male_index = random.randint(0, len(parents) - 1)\n",
    "            female_index = random.randint(0, len(parents) - 1)\n",
    "            if male_index != female_index:\n",
    "                # 随机选取交叉点(染色体进行互换的点)\n",
    "                cross_pos = random.randint(0, self.length)\n",
    "                # 生成掩码, 方便位操作\n",
    "                mask = 0\n",
    "                # 进行染色体的交叉\n",
    "                for i in range(cross_pos):\n",
    "                    mask |= (1 << i)\n",
    "                    male = parents[male_index]\n",
    "                    female = parents[female_index]\n",
    "                    child = ((male & mask) | (female & ~mask)) & ((1 << self.length) - 1)\n",
    "                    # 将孩子添加到孩子种群中\n",
    "                    children.append(child)\n",
    "        # 将孩子种群添加到整个种群中\n",
    "        self.population = parents + children\n",
    "\n",
    "    def mutation(self, rate):\n",
    "        \"\"\"\n",
    "        变异\n",
    "        对种群中的所有个体，随机改变某个个体中的某个基因\n",
    "        \"\"\"\n",
    "        for i in range(len(self.population)):\n",
    "            # 根据变异率随机改变种群中的个体\n",
    "            if random.random() < rate:\n",
    "                # 随机选取需要改变的位置并将这个位置的值取反\n",
    "                j = random.randint(0, self.length - 1)\n",
    "                self.population[i] ^= 1 << j\n",
    "\n",
    "    def decode(self, chromosome):\n",
    "        \"\"\"\n",
    "        解码染色体，将二进制转化为属于[0, 9]的实数\n",
    "        \"\"\"\n",
    "        return chromosome * 9.0 / (2 ** self.length - 1)\n",
    "\n",
    "    def result(self):\n",
    "        \"\"\"\n",
    "        获得当前代的最优值，这里取的是函数取最大值时x的值\n",
    "        \"\"\"\n",
    "        graded = [(self.fitness(chromosome), chromosome) for chromosome in self.population]\n",
    "        graded = [x[1] for x in sorted(graded, reverse=True)]\n",
    "        return self.decode(graded[0])\n",
    "\n",
    "ga = GA(17, 300)\n",
    "for x in range(200):\n",
    "    ga.evolve()\n",
    "print(ga.result())"
   ]
  },
  {
   "cell_type": "markdown",
   "metadata": {},
   "source": [
    "* 进化"
   ]
  },
  {
   "cell_type": "code",
   "execution_count": 3,
   "metadata": {},
   "outputs": [],
   "source": [
    "    def evolve(self, retain_rate=.2, random_select_rate=.5, mutation_rate=.01):\n",
    "        \"\"\"\n",
    "        进化\n",
    "        对当前一代种群依次进行选择、交叉并生成新一代种群，然后对新一代种群进行变异\n",
    "        \"\"\"\n",
    "        # 选择当前一代种群中的父母个体\n",
    "        parents = self.selection(retain_rate, random_select_rate)\n",
    "        # 父母个体之间随机交叉\n",
    "        self.crossover(parents)\n",
    "        # 产生变异\n",
    "        self.mutation(mutation_rate)"
   ]
  },
  {
   "cell_type": "markdown",
   "metadata": {},
   "source": [
    "* 随机生成染色体"
   ]
  },
  {
   "cell_type": "code",
   "execution_count": 4,
   "metadata": {},
   "outputs": [],
   "source": [
    "    def gen_chromosome(self, length):\n",
    "        \"\"\"\n",
    "        随机生成长度为length的染色体，每个基因的取值是0或1\n",
    "        这里用一个bit表示一个基因\n",
    "        \"\"\"\n",
    "        # 初始化染色体的值\n",
    "        chromosome = 0\n",
    "        # 随机产生染色体\n",
    "        for i in range(length):\n",
    "            chromosome |= (1 << i) * random.randint(0, 1)"
   ]
  },
  {
   "cell_type": "markdown",
   "metadata": {},
   "source": [
    "* 获取初始种群"
   ]
  },
  {
   "cell_type": "code",
   "execution_count": 5,
   "metadata": {},
   "outputs": [],
   "source": [
    "    def gen_population(self, length, count):\n",
    "        \"\"\"\n",
    "        获取初始种群（一个含有count个长度为length的染色体的列表）\n",
    "        \"\"\"\n",
    "        return [self.gen_chromosome(length) for i in range(count)]"
   ]
  },
  {
   "cell_type": "markdown",
   "metadata": {},
   "source": [
    "* 计算适应度"
   ]
  },
  {
   "cell_type": "code",
   "execution_count": 6,
   "metadata": {},
   "outputs": [],
   "source": [
    "    def fitness(self, chromosome):\n",
    "        \"\"\"\n",
    "        计算适应度，将染色体解码为0~9之间数字，代入函数计算\n",
    "        因为是求最大值，所以数值越大，适应度越高\n",
    "        \"\"\"\n",
    "        # 解码染色体\n",
    "        x = self.decode(chromosome)\n",
    "        # 直接将带入计算得到的解作为返回值\n",
    "        return x + 10 * math.sin(5 * x) + 7 * math.cos(4 * x)"
   ]
  },
  {
   "cell_type": "markdown",
   "metadata": {},
   "source": [
    "* 从染色体集合中选择出下一代染色体"
   ]
  },
  {
   "cell_type": "code",
   "execution_count": 7,
   "metadata": {},
   "outputs": [],
   "source": [
    "    def selection(self, retain_rate, random_select_rate):\n",
    "        \"\"\"\n",
    "        选择\n",
    "        先对适应度从大到小排序，选出存活的染色体\n",
    "        再进行随机选择，选出适应度虽然小，但是幸存下来的个体\n",
    "        \"\"\"\n",
    "        # graded是a list of tuple, 元组由适应度和染色体的值构成\n",
    "        graded = [(self.fitness(chromosome), chromosome) for chromosome in self.population]\n",
    "        # 对整个数组进行降序排序, 并直接取第二个位置的值\n",
    "        graded = [x[1] for x in sorted(graded, reverse=True)]\n",
    "        # 根据留存率计算留存下来的个体的量\n",
    "        retain_length = int(len(graded) * retain_rate)\n",
    "        # 根据留存量截取具有较高的适应度的个体作为这一代的留存个体\n",
    "        parents = graded[:retain_length]\n",
    "        # 对于适应度不够高的个体, 根据随机选择率随机的将它们留存\n",
    "        for chromosome in graded[retain_length:]:\n",
    "            if random.random() < random_select_rate:\n",
    "                parents.append(chromosome)\n",
    "        # 返回这一代淘汰后的留存个体\n",
    "        return parents"
   ]
  },
  {
   "cell_type": "markdown",
   "metadata": {},
   "source": [
    "* 染色体交叉"
   ]
  },
  {
   "cell_type": "code",
   "execution_count": 8,
   "metadata": {},
   "outputs": [],
   "source": [
    "    def crossover(self, parents):\n",
    "        \"\"\"\n",
    "        染色体的交叉、繁殖，生成新一代的种群\n",
    "        \"\"\"\n",
    "        # 初始化孩子种群\n",
    "        children = []\n",
    "        # 计算需要繁殖的孩子的量\n",
    "        target_count = len(self.population) - len(parents)\n",
    "        # 根据需要的量进行繁殖\n",
    "        while len(children) < target_count:\n",
    "            # 随机选取孩子的父母\n",
    "            male_index = random.randint(0, len(parents) - 1)\n",
    "            female_index = random.randint(0, len(parents) - 1)\n",
    "            if male_index != female_index:\n",
    "                # 随机选取交叉点(染色体进行互换的点)\n",
    "                cross_pos = random.randint(0, self.length)\n",
    "                # 生成掩码, 方便位操作\n",
    "                mask = 0\n",
    "                # 进行染色体的交叉\n",
    "                for i in range(cross_pos):\n",
    "                    mask |= (1 << i)\n",
    "                    male = parents[male_index]\n",
    "                    female = parents[female_index]\n",
    "                    child = ((male & mask) | (female & ~mask)) & ((1 << self.length) - 1)\n",
    "                    # 将孩子添加到孩子种群中\n",
    "                    children.append(child)\n",
    "        # 将孩子种群添加到整个种群中\n",
    "        self.population = parents + children"
   ]
  },
  {
   "cell_type": "markdown",
   "metadata": {},
   "source": [
    "* 变异"
   ]
  },
  {
   "cell_type": "code",
   "execution_count": 9,
   "metadata": {},
   "outputs": [],
   "source": [
    "    def mutation(self, rate):\n",
    "        \"\"\"\n",
    "        变异\n",
    "        对种群中的所有个体，随机改变某个个体中的某个基因\n",
    "        \"\"\"\n",
    "        for i in range(len(self.population)):\n",
    "            # 根据变异率随机改变种群中的个体\n",
    "            if random.random() < rate:\n",
    "                # 随机选取需要改变的位置并将这个位置的值取反\n",
    "                j = random.randint(0, self.length - 1)\n",
    "                self.population[i] ^= 1 << j"
   ]
  },
  {
   "cell_type": "markdown",
   "metadata": {},
   "source": [
    "* 解码染色体"
   ]
  },
  {
   "cell_type": "code",
   "execution_count": 10,
   "metadata": {},
   "outputs": [],
   "source": [
    "    def decode(self, chromosome):\n",
    "        \"\"\"\n",
    "        解码染色体，将二进制转化为属于[0, 9]的实数\n",
    "        \"\"\"\n",
    "        return chromosome * 9.0 / (2 ** self.length - 1)"
   ]
  },
  {
   "cell_type": "markdown",
   "metadata": {},
   "source": [
    "* 获得当前代的最优值"
   ]
  },
  {
   "cell_type": "code",
   "execution_count": 11,
   "metadata": {},
   "outputs": [],
   "source": [
    "    def result(self):\n",
    "        \"\"\"\n",
    "        获得当前代的最优值，这里取的是函数取最大值时x的值\n",
    "        \"\"\"\n",
    "        graded = [(self.fitness(chromosome), chromosome) for chromosome in self.population]\n",
    "        graded = [x[1] for x in sorted(graded, reverse=True)]\n",
    "        return self.decode(graded[0])"
   ]
  }
 ],
 "metadata": {
  "kernelspec": {
   "display_name": "Python 3",
   "language": "python",
   "name": "python3"
  },
  "language_info": {
   "codemirror_mode": {
    "name": "ipython",
    "version": 3
   },
   "file_extension": ".py",
   "mimetype": "text/x-python",
   "name": "python",
   "nbconvert_exporter": "python",
   "pygments_lexer": "ipython3",
   "version": "3.6.6"
  }
 },
 "nbformat": 4,
 "nbformat_minor": 2
}
